{
 "cells": [
  {
   "cell_type": "markdown",
   "id": "a83b6cfe",
   "metadata": {},
   "source": [
    "Q: Why Naive Bayes algorithm is called naive?\n",
    "    \n",
    "A: It assumes features to be independent, this assumption is unrealistic for      real world datasets"
   ]
  },
  {
   "cell_type": "markdown",
   "id": "767f2a9c",
   "metadata": {},
   "source": [
    "### Import Libraries"
   ]
  },
  {
   "cell_type": "code",
   "execution_count": 1,
   "id": "741fbc35",
   "metadata": {},
   "outputs": [],
   "source": [
    "import numpy as np\n",
    "from sklearn.naive_bayes import GaussianNB"
   ]
  },
  {
   "cell_type": "markdown",
   "id": "fc969a6a",
   "metadata": {},
   "source": [
    "### Let's generate some Random Data"
   ]
  },
  {
   "cell_type": "code",
   "execution_count": 2,
   "id": "dd396698",
   "metadata": {},
   "outputs": [],
   "source": [
    "input_feature_x = np.array([[-2, -1], [-3, -1], [-4, -3], [1, 1], [3, 2], [6,4]])\n",
    "output_y = np.array([1, 1, 1, 2, 2, 2])"
   ]
  },
  {
   "cell_type": "markdown",
   "id": "cc1d81f0",
   "metadata": {},
   "source": [
    "### Create the model and fit on data"
   ]
  },
  {
   "cell_type": "code",
   "execution_count": 3,
   "id": "f176237a",
   "metadata": {},
   "outputs": [
    {
     "data": {
      "text/plain": [
       "GaussianNB()"
      ]
     },
     "execution_count": 3,
     "metadata": {},
     "output_type": "execute_result"
    }
   ],
   "source": [
    "nb_classifier = GaussianNB()\n",
    "nb_classifier.fit(input_feature_x, output_y)"
   ]
  },
  {
   "cell_type": "markdown",
   "id": "410962af",
   "metadata": {},
   "source": [
    "### Get Predictions"
   ]
  },
  {
   "cell_type": "code",
   "execution_count": 4,
   "id": "ba819068",
   "metadata": {},
   "outputs": [
    {
     "data": {
      "text/plain": [
       "array([2])"
      ]
     },
     "execution_count": 4,
     "metadata": {},
     "output_type": "execute_result"
    }
   ],
   "source": [
    "prediction_array = [[-8,5]]\n",
    "nb_classifier.predict(prediction_array)"
   ]
  },
  {
   "cell_type": "code",
   "execution_count": null,
   "id": "1cef7663",
   "metadata": {},
   "outputs": [],
   "source": []
  }
 ],
 "metadata": {
  "kernelspec": {
   "display_name": "Python 3 (ipykernel)",
   "language": "python",
   "name": "python3"
  },
  "language_info": {
   "codemirror_mode": {
    "name": "ipython",
    "version": 3
   },
   "file_extension": ".py",
   "mimetype": "text/x-python",
   "name": "python",
   "nbconvert_exporter": "python",
   "pygments_lexer": "ipython3",
   "version": "3.9.12"
  }
 },
 "nbformat": 4,
 "nbformat_minor": 5
}
