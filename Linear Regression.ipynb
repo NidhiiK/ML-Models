{
 "cells": [
  {
   "cell_type": "markdown",
   "id": "baebbaa5",
   "metadata": {},
   "source": [
    "### Import Libraries"
   ]
  },
  {
   "cell_type": "code",
   "execution_count": 2,
   "id": "656fd195",
   "metadata": {},
   "outputs": [],
   "source": [
    "import numpy as np\n",
    "from sklearn.linear_model import LinearRegression"
   ]
  },
  {
   "cell_type": "code",
   "execution_count": 4,
   "id": "11789649",
   "metadata": {},
   "outputs": [
    {
     "name": "stdout",
     "output_type": "stream",
     "text": [
      "[[1 2 3 4]]\n"
     ]
    }
   ],
   "source": [
    "A = np.array([[1, 2], [3, 4]])\n",
    "B = A.reshape(1, -1)\n",
    "print(B)"
   ]
  },
  {
   "cell_type": "markdown",
   "id": "6be62e97",
   "metadata": {},
   "source": [
    "### Let's generate some Random Data"
   ]
  },
  {
   "cell_type": "code",
   "execution_count": 5,
   "id": "bb22fd74",
   "metadata": {},
   "outputs": [],
   "source": [
    "input_feature_x = np.array([4, 12, 16, 20, 24, 36, 40]).reshape((-1, 1))\n",
    "output_y = np.array([4, 17, 10, 18, 22, 38, 33])"
   ]
  },
  {
   "cell_type": "markdown",
   "id": "d1a6b8a9",
   "metadata": {},
   "source": [
    "### Create the linear regression model and fit on data"
   ]
  },
  {
   "cell_type": "code",
   "execution_count": 6,
   "id": "2b23a492",
   "metadata": {},
   "outputs": [
    {
     "data": {
      "text/plain": [
       "LinearRegression()"
      ]
     },
     "execution_count": 6,
     "metadata": {},
     "output_type": "execute_result"
    }
   ],
   "source": [
    "my_first_linear_model = LinearRegression()\n",
    "my_first_linear_model.fit(input_feature_x, output_y)"
   ]
  },
  {
   "cell_type": "markdown",
   "id": "d71beb00",
   "metadata": {},
   "source": [
    "### Find the slope and intercept"
   ]
  },
  {
   "cell_type": "code",
   "execution_count": 7,
   "id": "f5973470",
   "metadata": {},
   "outputs": [
    {
     "data": {
      "text/plain": [
       "array([0.88368056])"
      ]
     },
     "execution_count": 7,
     "metadata": {},
     "output_type": "execute_result"
    }
   ],
   "source": [
    "my_first_linear_model.coef_"
   ]
  },
  {
   "cell_type": "code",
   "execution_count": 8,
   "id": "d3976828",
   "metadata": {},
   "outputs": [
    {
     "data": {
      "text/plain": [
       "1.097222222222225"
      ]
     },
     "execution_count": 8,
     "metadata": {},
     "output_type": "execute_result"
    }
   ],
   "source": [
    "my_first_linear_model.intercept_"
   ]
  },
  {
   "cell_type": "markdown",
   "id": "9a1f74df",
   "metadata": {},
   "source": [
    "y = mx + c\n",
    "\n",
    "\n",
    "y = 0.883*x+1.097"
   ]
  },
  {
   "cell_type": "markdown",
   "id": "a6cf8e57",
   "metadata": {},
   "source": [
    "### Get Predictions"
   ]
  },
  {
   "cell_type": "code",
   "execution_count": 10,
   "id": "d4c9040f",
   "metadata": {},
   "outputs": [
    {
     "data": {
      "text/plain": [
       "array([12.58506944, 15.23611111])"
      ]
     },
     "execution_count": 10,
     "metadata": {},
     "output_type": "execute_result"
    }
   ],
   "source": [
    "prediction_array = np.array([13,16]).reshape(-1,1)\n",
    "my_first_linear_model.predict(prediction_array)"
   ]
  },
  {
   "cell_type": "code",
   "execution_count": null,
   "id": "0f9c1925",
   "metadata": {},
   "outputs": [],
   "source": []
  }
 ],
 "metadata": {
  "kernelspec": {
   "display_name": "Python 3 (ipykernel)",
   "language": "python",
   "name": "python3"
  },
  "language_info": {
   "codemirror_mode": {
    "name": "ipython",
    "version": 3
   },
   "file_extension": ".py",
   "mimetype": "text/x-python",
   "name": "python",
   "nbconvert_exporter": "python",
   "pygments_lexer": "ipython3",
   "version": "3.9.12"
  }
 },
 "nbformat": 4,
 "nbformat_minor": 5
}
