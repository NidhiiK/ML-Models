{
 "cells": [
  {
   "cell_type": "markdown",
   "id": "d5214009",
   "metadata": {},
   "source": [
    "### Import Libraries"
   ]
  },
  {
   "cell_type": "code",
   "execution_count": 1,
   "id": "64ac8451",
   "metadata": {},
   "outputs": [],
   "source": [
    "import numpy as np\n",
    "from sklearn.linear_model import LogisticRegression"
   ]
  },
  {
   "cell_type": "markdown",
   "id": "2801ddd0",
   "metadata": {},
   "source": [
    "### Let's generate some Random Data"
   ]
  },
  {
   "cell_type": "code",
   "execution_count": 2,
   "id": "d84ab861",
   "metadata": {},
   "outputs": [],
   "source": [
    "input_feature_x = np.array([2, 4, 5, 8, 7, 9, 6]).reshape((-1, 1))\n",
    "output_y = np.array([1,1,0,1,0,0,1])"
   ]
  },
  {
   "cell_type": "markdown",
   "id": "7cbfed2b",
   "metadata": {},
   "source": [
    "### Create the logistic regression model and fit on data"
   ]
  },
  {
   "cell_type": "code",
   "execution_count": 3,
   "id": "3b87d247",
   "metadata": {},
   "outputs": [
    {
     "data": {
      "text/plain": [
       "LogisticRegression()"
      ]
     },
     "execution_count": 3,
     "metadata": {},
     "output_type": "execute_result"
    }
   ],
   "source": [
    "my_first_logistic_model = LogisticRegression()\n",
    "my_first_logistic_model.fit(input_feature_x, output_y)"
   ]
  },
  {
   "cell_type": "markdown",
   "id": "0dc6b37b",
   "metadata": {},
   "source": [
    "### Get Predictions"
   ]
  },
  {
   "cell_type": "code",
   "execution_count": 16,
   "id": "452c7671",
   "metadata": {},
   "outputs": [
    {
     "data": {
      "text/plain": [
       "array([1, 1])"
      ]
     },
     "execution_count": 16,
     "metadata": {},
     "output_type": "execute_result"
    }
   ],
   "source": [
    "prediction_array = np.array([6,0]).reshape(-1,1)\n",
    "my_first_logistic_model.predict(prediction_array)"
   ]
  },
  {
   "cell_type": "code",
   "execution_count": null,
   "id": "a03c26f9",
   "metadata": {},
   "outputs": [],
   "source": []
  }
 ],
 "metadata": {
  "kernelspec": {
   "display_name": "Python 3 (ipykernel)",
   "language": "python",
   "name": "python3"
  },
  "language_info": {
   "codemirror_mode": {
    "name": "ipython",
    "version": 3
   },
   "file_extension": ".py",
   "mimetype": "text/x-python",
   "name": "python",
   "nbconvert_exporter": "python",
   "pygments_lexer": "ipython3",
   "version": "3.9.12"
  }
 },
 "nbformat": 4,
 "nbformat_minor": 5
}
